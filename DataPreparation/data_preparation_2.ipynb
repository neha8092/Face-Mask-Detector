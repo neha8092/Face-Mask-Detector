{
 "cells": [
  {
   "cell_type": "markdown",
   "metadata": {},
   "source": [
    "## Data Preprocessing Step -2"
   ]
  },
  {
   "cell_type": "markdown",
   "metadata": {},
   "source": [
    "#### In this notebook , we will preprocess second data source to a particular format. This data contains the images of the faces without any Masks"
   ]
  },
  {
   "cell_type": "markdown",
   "metadata": {},
   "source": [
    "### a) Data Preprocessing\n"
   ]
  },
  {
   "cell_type": "code",
   "execution_count": 9,
   "metadata": {},
   "outputs": [],
   "source": [
    "# Importing Relevant Libraries\n",
    "import pandas as pd\n",
    "import os\n",
    "import cv2\n",
    "import glob\n",
    "import matplotlib.pyplot as plt"
   ]
  },
  {
   "cell_type": "code",
   "execution_count": 16,
   "metadata": {},
   "outputs": [
    {
     "data": {
      "text/html": [
       "<div>\n",
       "<style scoped>\n",
       "    .dataframe tbody tr th:only-of-type {\n",
       "        vertical-align: middle;\n",
       "    }\n",
       "\n",
       "    .dataframe tbody tr th {\n",
       "        vertical-align: top;\n",
       "    }\n",
       "\n",
       "    .dataframe thead th {\n",
       "        text-align: right;\n",
       "    }\n",
       "</style>\n",
       "<table border=\"1\" class=\"dataframe\">\n",
       "  <thead>\n",
       "    <tr style=\"text-align: right;\">\n",
       "      <th></th>\n",
       "      <th>NewID</th>\n",
       "      <th>content</th>\n",
       "      <th>x1</th>\n",
       "      <th>y1</th>\n",
       "      <th>x2</th>\n",
       "      <th>y2</th>\n",
       "      <th>imageHeight</th>\n",
       "      <th>imageWidth</th>\n",
       "      <th>label</th>\n",
       "    </tr>\n",
       "  </thead>\n",
       "  <tbody>\n",
       "    <tr>\n",
       "      <th>1127</th>\n",
       "      <td>1128.jpeg</td>\n",
       "      <td>http://com.dataturks.a96-i23.open.s3.amazonaws...</td>\n",
       "      <td>0.250000</td>\n",
       "      <td>0.247465</td>\n",
       "      <td>0.285061</td>\n",
       "      <td>0.304260</td>\n",
       "      <td>493</td>\n",
       "      <td>656</td>\n",
       "      <td>No Mask</td>\n",
       "    </tr>\n",
       "    <tr>\n",
       "      <th>1128</th>\n",
       "      <td>1129.jpeg</td>\n",
       "      <td>http://com.dataturks.a96-i23.open.s3.amazonaws...</td>\n",
       "      <td>0.484756</td>\n",
       "      <td>0.233266</td>\n",
       "      <td>0.527439</td>\n",
       "      <td>0.322515</td>\n",
       "      <td>493</td>\n",
       "      <td>656</td>\n",
       "      <td>No Mask</td>\n",
       "    </tr>\n",
       "    <tr>\n",
       "      <th>1129</th>\n",
       "      <td>1130.jpeg</td>\n",
       "      <td>http://com.dataturks.a96-i23.open.s3.amazonaws...</td>\n",
       "      <td>0.592988</td>\n",
       "      <td>0.316430</td>\n",
       "      <td>0.620427</td>\n",
       "      <td>0.359026</td>\n",
       "      <td>493</td>\n",
       "      <td>656</td>\n",
       "      <td>No Mask</td>\n",
       "    </tr>\n",
       "    <tr>\n",
       "      <th>1130</th>\n",
       "      <td>1131.jpeg</td>\n",
       "      <td>http://com.dataturks.a96-i23.open.s3.amazonaws...</td>\n",
       "      <td>0.772866</td>\n",
       "      <td>0.413793</td>\n",
       "      <td>0.801829</td>\n",
       "      <td>0.458418</td>\n",
       "      <td>493</td>\n",
       "      <td>656</td>\n",
       "      <td>No Mask</td>\n",
       "    </tr>\n",
       "    <tr>\n",
       "      <th>1131</th>\n",
       "      <td>1132.jpeg</td>\n",
       "      <td>http://com.dataturks.a96-i23.open.s3.amazonaws...</td>\n",
       "      <td>0.803354</td>\n",
       "      <td>0.515213</td>\n",
       "      <td>0.850610</td>\n",
       "      <td>0.626775</td>\n",
       "      <td>493</td>\n",
       "      <td>656</td>\n",
       "      <td>No Mask</td>\n",
       "    </tr>\n",
       "  </tbody>\n",
       "</table>\n",
       "</div>"
      ],
      "text/plain": [
       "          NewID                                            content        x1  \\\n",
       "1127  1128.jpeg  http://com.dataturks.a96-i23.open.s3.amazonaws...  0.250000   \n",
       "1128  1129.jpeg  http://com.dataturks.a96-i23.open.s3.amazonaws...  0.484756   \n",
       "1129  1130.jpeg  http://com.dataturks.a96-i23.open.s3.amazonaws...  0.592988   \n",
       "1130  1131.jpeg  http://com.dataturks.a96-i23.open.s3.amazonaws...  0.772866   \n",
       "1131  1132.jpeg  http://com.dataturks.a96-i23.open.s3.amazonaws...  0.803354   \n",
       "\n",
       "            y1        x2        y2  imageHeight  imageWidth    label  \n",
       "1127  0.247465  0.285061  0.304260          493         656  No Mask  \n",
       "1128  0.233266  0.527439  0.322515          493         656  No Mask  \n",
       "1129  0.316430  0.620427  0.359026          493         656  No Mask  \n",
       "1130  0.413793  0.801829  0.458418          493         656  No Mask  \n",
       "1131  0.515213  0.850610  0.626775          493         656  No Mask  "
      ]
     },
     "execution_count": 16,
     "metadata": {},
     "output_type": "execute_result"
    }
   ],
   "source": [
    "# Reading annotation file\n",
    "nomask= pd.read_csv('/data/logo_detection/Hackathon/raw_data/labels_2/annotation_nomask.csv')\n",
    "nomask.tail()"
   ]
  },
  {
   "cell_type": "markdown",
   "metadata": {},
   "source": [
    "#### Converting columns in a relevant format"
   ]
  },
  {
   "cell_type": "code",
   "execution_count": 17,
   "metadata": {},
   "outputs": [],
   "source": [
    "\n",
    "\n",
    "# Converting x1,y1,x2,y2 from normalised to normal form and find width and height of the annotations\n",
    "nomask['x1_orig']= nomask['x1']*nomask['imageWidth']\n",
    "nomask['x2_orig']= nomask['x2']*nomask['imageWidth']\n",
    "nomask['y1_orig']= nomask['y1']*nomask['imageHeight']\n",
    "nomask['y2_orig']= nomask['y2']*nomask['imageHeight']\n",
    "\n",
    "nomask['width']= nomask['x2_orig']-nomask['x1_orig']\n",
    "nomask['height']=nomask['y2_orig']-nomask['y1_orig']\n",
    "\n",
    "# Getting the center of the boundary boxes\n",
    "nomask['center-x']= nomask['x1_orig']+(nomask['width']/2)\n",
    "nomask['center-y']= nomask['y1_orig']+(nomask['height']/2)\n",
    "\n",
    "\n",
    "#Normalising the height and width of Bounding Box\n",
    "nomask['normalised_height']= (nomask['height']/nomask['imageHeight'])\n",
    "nomask['normalised_width']= (nomask['width']/nomask['imageWidth'])\n",
    "nomask['center-x']= nomask['center-x']/nomask['imageWidth']\n",
    "nomask['center-y'] = nomask['center-y']/nomask['imageHeight']\n",
    "nomask['class_name']= \"none\"\n",
    "\n",
    "\n",
    "#Selecting relevant columns\n",
    "nomask['filename']= nomask['NewID']\n",
    "nomask = nomask[['filename','class_name','center-x','center-y','normalised_width','normalised_height']]"
   ]
  },
  {
   "cell_type": "code",
   "execution_count": 18,
   "metadata": {},
   "outputs": [
    {
     "data": {
      "text/html": [
       "<div>\n",
       "<style scoped>\n",
       "    .dataframe tbody tr th:only-of-type {\n",
       "        vertical-align: middle;\n",
       "    }\n",
       "\n",
       "    .dataframe tbody tr th {\n",
       "        vertical-align: top;\n",
       "    }\n",
       "\n",
       "    .dataframe thead th {\n",
       "        text-align: right;\n",
       "    }\n",
       "</style>\n",
       "<table border=\"1\" class=\"dataframe\">\n",
       "  <thead>\n",
       "    <tr style=\"text-align: right;\">\n",
       "      <th></th>\n",
       "      <th>filename</th>\n",
       "      <th>class_name</th>\n",
       "      <th>center-x</th>\n",
       "      <th>center-y</th>\n",
       "      <th>normalised_width</th>\n",
       "      <th>normalised_height</th>\n",
       "    </tr>\n",
       "  </thead>\n",
       "  <tbody>\n",
       "    <tr>\n",
       "      <th>0</th>\n",
       "      <td>1.jpeg</td>\n",
       "      <td>none</td>\n",
       "      <td>0.129231</td>\n",
       "      <td>0.379880</td>\n",
       "      <td>0.086154</td>\n",
       "      <td>0.147147</td>\n",
       "    </tr>\n",
       "    <tr>\n",
       "      <th>1</th>\n",
       "      <td>2.jpeg</td>\n",
       "      <td>none</td>\n",
       "      <td>0.620769</td>\n",
       "      <td>0.379880</td>\n",
       "      <td>0.075385</td>\n",
       "      <td>0.177177</td>\n",
       "    </tr>\n",
       "    <tr>\n",
       "      <th>2</th>\n",
       "      <td>3.png</td>\n",
       "      <td>none</td>\n",
       "      <td>0.737270</td>\n",
       "      <td>0.297217</td>\n",
       "      <td>0.063922</td>\n",
       "      <td>0.129225</td>\n",
       "    </tr>\n",
       "    <tr>\n",
       "      <th>3</th>\n",
       "      <td>4.jpeg</td>\n",
       "      <td>none</td>\n",
       "      <td>0.538043</td>\n",
       "      <td>0.191667</td>\n",
       "      <td>0.136957</td>\n",
       "      <td>0.283333</td>\n",
       "    </tr>\n",
       "    <tr>\n",
       "      <th>4</th>\n",
       "      <td>5.jpeg</td>\n",
       "      <td>none</td>\n",
       "      <td>0.686957</td>\n",
       "      <td>0.158333</td>\n",
       "      <td>0.117391</td>\n",
       "      <td>0.300000</td>\n",
       "    </tr>\n",
       "  </tbody>\n",
       "</table>\n",
       "</div>"
      ],
      "text/plain": [
       "  filename class_name  center-x  center-y  normalised_width  normalised_height\n",
       "0   1.jpeg       none  0.129231  0.379880          0.086154           0.147147\n",
       "1   2.jpeg       none  0.620769  0.379880          0.075385           0.177177\n",
       "2    3.png       none  0.737270  0.297217          0.063922           0.129225\n",
       "3   4.jpeg       none  0.538043  0.191667          0.136957           0.283333\n",
       "4   5.jpeg       none  0.686957  0.158333          0.117391           0.300000"
      ]
     },
     "execution_count": 18,
     "metadata": {},
     "output_type": "execute_result"
    }
   ],
   "source": [
    "nomask.head()"
   ]
  },
  {
   "cell_type": "code",
   "execution_count": 19,
   "metadata": {},
   "outputs": [],
   "source": [
    "#Writing final annotation file\n",
    "path= '/data/logo_detection/Hackathon/processed_files/annotation_2.csv'\n",
    "nomask.to_csv(path,index=None)"
   ]
  }
 ],
 "metadata": {
  "kernelspec": {
   "display_name": "Python 3",
   "language": "python",
   "name": "python3"
  },
  "language_info": {
   "codemirror_mode": {
    "name": "ipython",
    "version": 3
   },
   "file_extension": ".py",
   "mimetype": "text/x-python",
   "name": "python",
   "nbconvert_exporter": "python",
   "pygments_lexer": "ipython3",
   "version": "3.6.8"
  }
 },
 "nbformat": 4,
 "nbformat_minor": 4
}
