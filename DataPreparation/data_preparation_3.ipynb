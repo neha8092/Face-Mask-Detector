{
 "cells": [
  {
   "cell_type": "markdown",
   "metadata": {},
   "source": [
    "## Data Preprocessing Step -3"
   ]
  },
  {
   "cell_type": "markdown",
   "metadata": {},
   "source": [
    "#### In this notebook , we will preprocess third data source to a particular format and visualize the images. This data contains the images of the faces with/without Masks"
   ]
  },
  {
   "cell_type": "markdown",
   "metadata": {},
   "source": [
    "### a) Data Preprocessing"
   ]
  },
  {
   "cell_type": "code",
   "execution_count": 24,
   "metadata": {},
   "outputs": [],
   "source": [
    "# Importing Relevant Libraries\n",
    "import pandas as pd\n",
    "import os\n",
    "import cv2\n",
    "import glob\n",
    "import json\n",
    "import matplotlib.pyplot as plt\n",
    "from pandas.io.json import json_normalize"
   ]
  },
  {
   "cell_type": "code",
   "execution_count": 25,
   "metadata": {},
   "outputs": [
    {
     "data": {
      "text/html": [
       "<div>\n",
       "<style scoped>\n",
       "    .dataframe tbody tr th:only-of-type {\n",
       "        vertical-align: middle;\n",
       "    }\n",
       "\n",
       "    .dataframe tbody tr th {\n",
       "        vertical-align: top;\n",
       "    }\n",
       "\n",
       "    .dataframe thead th {\n",
       "        text-align: right;\n",
       "    }\n",
       "</style>\n",
       "<table border=\"1\" class=\"dataframe\">\n",
       "  <thead>\n",
       "    <tr style=\"text-align: right;\">\n",
       "      <th></th>\n",
       "      <th>filename</th>\n",
       "      <th>file_size</th>\n",
       "      <th>file_attributes</th>\n",
       "      <th>region_count</th>\n",
       "      <th>region_id</th>\n",
       "      <th>region_shape_attributes</th>\n",
       "      <th>region_attributes</th>\n",
       "    </tr>\n",
       "  </thead>\n",
       "  <tbody>\n",
       "    <tr>\n",
       "      <th>0</th>\n",
       "      <td>6a9947bc-2cff-42d8-a32b-aac46276c512.jpg</td>\n",
       "      <td>151294</td>\n",
       "      <td>{\"caption\":\"\",\"public_domain\":\"no\",\"image_url\"...</td>\n",
       "      <td>2</td>\n",
       "      <td>0</td>\n",
       "      <td>{\"name\":\"rect\",\"x\":142,\"y\":54,\"width\":37,\"heig...</td>\n",
       "      <td>{\"name\":\"None\",\"type\":\"unknown\",\"image_quality...</td>\n",
       "    </tr>\n",
       "    <tr>\n",
       "      <th>1</th>\n",
       "      <td>6a9947bc-2cff-42d8-a32b-aac46276c512.jpg</td>\n",
       "      <td>151294</td>\n",
       "      <td>{\"caption\":\"\",\"public_domain\":\"no\",\"image_url\"...</td>\n",
       "      <td>2</td>\n",
       "      <td>1</td>\n",
       "      <td>{\"name\":\"rect\",\"x\":214,\"y\":25,\"width\":36,\"heig...</td>\n",
       "      <td>{\"name\":\"Good\",\"type\":\"unknown\",\"image_quality...</td>\n",
       "    </tr>\n",
       "    <tr>\n",
       "      <th>2</th>\n",
       "      <td>52e07677-32ec-4fb7-8641-ad87e5482ea3.jpg</td>\n",
       "      <td>297189</td>\n",
       "      <td>{\"caption\":\"\",\"public_domain\":\"no\",\"image_url\"...</td>\n",
       "      <td>1</td>\n",
       "      <td>0</td>\n",
       "      <td>{\"name\":\"rect\",\"x\":1034,\"y\":161,\"width\":616,\"h...</td>\n",
       "      <td>{\"name\":\"Bad\",\"type\":\"unknown\",\"image_quality\"...</td>\n",
       "    </tr>\n",
       "    <tr>\n",
       "      <th>3</th>\n",
       "      <td>00140c9b-1600.jpg</td>\n",
       "      <td>844142</td>\n",
       "      <td>{\"caption\":\"\",\"public_domain\":\"no\",\"image_url\"...</td>\n",
       "      <td>2</td>\n",
       "      <td>0</td>\n",
       "      <td>{\"name\":\"rect\",\"x\":617,\"y\":274,\"width\":93,\"hei...</td>\n",
       "      <td>{\"name\":\"Bad\",\"type\":\"unknown\",\"image_quality\"...</td>\n",
       "    </tr>\n",
       "    <tr>\n",
       "      <th>4</th>\n",
       "      <td>00140c9b-1600.jpg</td>\n",
       "      <td>844142</td>\n",
       "      <td>{\"caption\":\"\",\"public_domain\":\"no\",\"image_url\"...</td>\n",
       "      <td>2</td>\n",
       "      <td>1</td>\n",
       "      <td>{\"name\":\"rect\",\"x\":844,\"y\":270,\"width\":79,\"hei...</td>\n",
       "      <td>{\"name\":\"Good\",\"type\":\"unknown\",\"image_quality...</td>\n",
       "    </tr>\n",
       "  </tbody>\n",
       "</table>\n",
       "</div>"
      ],
      "text/plain": [
       "                                   filename  file_size  \\\n",
       "0  6a9947bc-2cff-42d8-a32b-aac46276c512.jpg     151294   \n",
       "1  6a9947bc-2cff-42d8-a32b-aac46276c512.jpg     151294   \n",
       "2  52e07677-32ec-4fb7-8641-ad87e5482ea3.jpg     297189   \n",
       "3                         00140c9b-1600.jpg     844142   \n",
       "4                         00140c9b-1600.jpg     844142   \n",
       "\n",
       "                                     file_attributes  region_count  region_id  \\\n",
       "0  {\"caption\":\"\",\"public_domain\":\"no\",\"image_url\"...             2          0   \n",
       "1  {\"caption\":\"\",\"public_domain\":\"no\",\"image_url\"...             2          1   \n",
       "2  {\"caption\":\"\",\"public_domain\":\"no\",\"image_url\"...             1          0   \n",
       "3  {\"caption\":\"\",\"public_domain\":\"no\",\"image_url\"...             2          0   \n",
       "4  {\"caption\":\"\",\"public_domain\":\"no\",\"image_url\"...             2          1   \n",
       "\n",
       "                             region_shape_attributes  \\\n",
       "0  {\"name\":\"rect\",\"x\":142,\"y\":54,\"width\":37,\"heig...   \n",
       "1  {\"name\":\"rect\",\"x\":214,\"y\":25,\"width\":36,\"heig...   \n",
       "2  {\"name\":\"rect\",\"x\":1034,\"y\":161,\"width\":616,\"h...   \n",
       "3  {\"name\":\"rect\",\"x\":617,\"y\":274,\"width\":93,\"hei...   \n",
       "4  {\"name\":\"rect\",\"x\":844,\"y\":270,\"width\":79,\"hei...   \n",
       "\n",
       "                                   region_attributes  \n",
       "0  {\"name\":\"None\",\"type\":\"unknown\",\"image_quality...  \n",
       "1  {\"name\":\"Good\",\"type\":\"unknown\",\"image_quality...  \n",
       "2  {\"name\":\"Bad\",\"type\":\"unknown\",\"image_quality\"...  \n",
       "3  {\"name\":\"Bad\",\"type\":\"unknown\",\"image_quality\"...  \n",
       "4  {\"name\":\"Good\",\"type\":\"unknown\",\"image_quality...  "
      ]
     },
     "execution_count": 25,
     "metadata": {},
     "output_type": "execute_result"
    }
   ],
   "source": [
    "# Reading the annotation file\n",
    "df= pd.read_csv('/data/logo_detection/Hackathon/raw_data/labels_3/Masks.csv')\n",
    "df.head()"
   ]
  },
  {
   "cell_type": "code",
   "execution_count": 48,
   "metadata": {},
   "outputs": [],
   "source": [
    "# Converting json attributes in different columns\n",
    "def json_to_columns(annotation):\n",
    "    df=annotation[['filename','region_attributes']].join(json_normalize(annotation['region_shape_attributes'].apply(json.loads)))\n",
    "    df2 = df.join(json_normalize(df['region_attributes'].apply(json.loads)),rsuffix=\"_shape\")\n",
    "    df_mod= df2[['filename','name_shape','x','y','width','height']]\n",
    "    return df_mod       "
   ]
  },
  {
   "cell_type": "code",
   "execution_count": 27,
   "metadata": {},
   "outputs": [],
   "source": [
    "# Getting the shape of the image \n",
    "#Result - Tuple (width , Height , Depth)\n",
    "def get_image_shape(df,image_path):\n",
    "    filenames = list(df['filename'])\n",
    "    image_shape={}\n",
    "    for i in filenames:\n",
    "            \n",
    "        if os.path.exists(image_path+i):\n",
    "            im= cv2.imread(image_path+i)\n",
    "            image_shape.update({i:im.shape})\n",
    "        else:\n",
    "            pass\n",
    "    return image_shape\n",
    "    "
   ]
  },
  {
   "cell_type": "code",
   "execution_count": 28,
   "metadata": {},
   "outputs": [],
   "source": [
    "# Getting the center of the annotations from x and y coordinates\n",
    "def convert_format_vggtoyolo(df):\n",
    "    df['center-x']= df['x']+(df['width']/2)\n",
    "    df['center-y']= df['y']+(df['height']/2)\n",
    "    return df "
   ]
  },
  {
   "cell_type": "code",
   "execution_count": 29,
   "metadata": {},
   "outputs": [],
   "source": [
    "def normalise(df):\n",
    "    # Convert Vgg format(x,y,w,h) (x and y are top left corners) to Yolo Format(center-x,center-y,w,h)\n",
    "    df = convert_format_vggtoyolo(df)\n",
    "    #Normalising the height and width of Bounding Box\n",
    "    df['normalised_height']= (df['height']/df['image_height'])\n",
    "    df['normalised_width']= (df['width']/df['image_width'])\n",
    "    df['center-x']= df['center-x']/df['image_width']\n",
    "    df['center-y'] = df['center-y']/df['image_height']\n",
    "    \n",
    "    return df\n",
    "    "
   ]
  },
  {
   "cell_type": "code",
   "execution_count": 44,
   "metadata": {},
   "outputs": [],
   "source": [
    "def select_relevant_columns(df,image_path):\n",
    "    df['class_name'] = df['name_shape']\n",
    "    df = df[['filename','class_name','center-x','center-y','normalised_width','normalised_height']]\n",
    "    return df"
   ]
  },
  {
   "cell_type": "code",
   "execution_count": 45,
   "metadata": {},
   "outputs": [],
   "source": [
    "def data_preprocessing(annotation_path,image_path):\n",
    "    file = pd.read_csv(annotation_path)\n",
    "    annotation= file[['filename','region_shape_attributes','region_attributes']]\n",
    "    df = json_to_columns(annotation)\n",
    "    image_shape = get_image_shape(df,image_path)\n",
    "    df['image_shape'] = df['filename'].map(image_shape)\n",
    "    df[['image_height','image_width','image_channels']]=pd.DataFrame(df['image_shape'].tolist(),index=df.index)\n",
    "    df = normalise(df)\n",
    "    finaldf = select_relevant_columns(df,image_path)\n",
    "    \n",
    "    return finaldf\n",
    "    "
   ]
  },
  {
   "cell_type": "code",
   "execution_count": 46,
   "metadata": {},
   "outputs": [],
   "source": [
    "# Writing final annotation to the designated folder\n",
    "def write_annotations(finaldf,image_path):\n",
    "    suffix= image_path.split('/')[-2]\n",
    "    path= '/data/logo_detection/Hackathon/processed_files/annotation_3.csv'\n",
    "    finaldf.to_csv(path,index=None)\n",
    "    "
   ]
  },
  {
   "cell_type": "code",
   "execution_count": 47,
   "metadata": {},
   "outputs": [
    {
     "name": "stderr",
     "output_type": "stream",
     "text": [
      "/data/logo_detection/logo_detection_env/lib/python3.6/site-packages/ipykernel_launcher.py:2: FutureWarning: pandas.io.json.json_normalize is deprecated, use pandas.json_normalize instead\n",
      "  \n",
      "/data/logo_detection/logo_detection_env/lib/python3.6/site-packages/ipykernel_launcher.py:3: FutureWarning: pandas.io.json.json_normalize is deprecated, use pandas.json_normalize instead\n",
      "  This is separate from the ipykernel package so we can avoid doing imports until\n"
     ]
    }
   ],
   "source": [
    "if __name__=='__main__':\n",
    "    \n",
    "    \n",
    "    annotation_path = '/data/logo_detection/Hackathon/raw_data/labels_3/Masks.csv'\n",
    "    image_path = '/data/logo_detection/Hackathon/raw_data/images_3/'\n",
    "    \n",
    "    finaldf= data_preprocessing(annotation_path,image_path)\n",
    "    write_annotations(finaldf,image_path)\n",
    "    "
   ]
  }
 ],
 "metadata": {
  "kernelspec": {
   "display_name": "Python 3",
   "language": "python",
   "name": "python3"
  },
  "language_info": {
   "codemirror_mode": {
    "name": "ipython",
    "version": 3
   },
   "file_extension": ".py",
   "mimetype": "text/x-python",
   "name": "python",
   "nbconvert_exporter": "python",
   "pygments_lexer": "ipython3",
   "version": "3.6.8"
  }
 },
 "nbformat": 4,
 "nbformat_minor": 4
}
