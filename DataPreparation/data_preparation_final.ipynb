{
 "cells": [
  {
   "cell_type": "markdown",
   "metadata": {},
   "source": [
    "## Data Combining and Preparing for YOLOv4"
   ]
  },
  {
   "cell_type": "markdown",
   "metadata": {},
   "source": [
    "#### We will be combine all the annotation files generated from multiple sources and make it ready for our training model (Yolov4).\n",
    "#### Along with that, we will also place the training images and labels to the relevant folders inside \"darknet\" for the model to train"
   ]
  },
  {
   "cell_type": "code",
   "execution_count": 76,
   "metadata": {},
   "outputs": [],
   "source": [
    "# Importing necessary libraries\n",
    "\n",
    "import pandas as pd\n",
    "import os\n"
   ]
  },
  {
   "cell_type": "code",
   "execution_count": 63,
   "metadata": {},
   "outputs": [
    {
     "data": {
      "text/plain": [
       "((3914, 6), (1132, 6), (632, 6))"
      ]
     },
     "execution_count": 63,
     "metadata": {},
     "output_type": "execute_result"
    }
   ],
   "source": [
    "annotation_1 = pd.read_csv('../processed_files/annotation_1.csv')\n",
    "annotation_2 = pd.read_csv('../processed_files/annotation_2.csv')\n",
    "annotation_3 = pd.read_csv('../processed_files/annotation_3.csv')\n",
    "annotation_1.shape, annotation_2.shape , annotation_3.shape"
   ]
  },
  {
   "cell_type": "code",
   "execution_count": 64,
   "metadata": {},
   "outputs": [
    {
     "data": {
      "text/plain": [
       "(5678, 7)"
      ]
     },
     "execution_count": 64,
     "metadata": {},
     "output_type": "execute_result"
    }
   ],
   "source": [
    "# Appending all the annotations to make a final file\n",
    "annotations = pd.concat([annotation_1,annotation_2,annotation_3],axis=0).reset_index()\n",
    "annotations.shape\n"
   ]
  },
  {
   "cell_type": "code",
   "execution_count": 65,
   "metadata": {},
   "outputs": [
    {
     "data": {
      "text/html": [
       "<div>\n",
       "<style scoped>\n",
       "    .dataframe tbody tr th:only-of-type {\n",
       "        vertical-align: middle;\n",
       "    }\n",
       "\n",
       "    .dataframe tbody tr th {\n",
       "        vertical-align: top;\n",
       "    }\n",
       "\n",
       "    .dataframe thead th {\n",
       "        text-align: right;\n",
       "    }\n",
       "</style>\n",
       "<table border=\"1\" class=\"dataframe\">\n",
       "  <thead>\n",
       "    <tr style=\"text-align: right;\">\n",
       "      <th></th>\n",
       "      <th>index</th>\n",
       "      <th>filename</th>\n",
       "      <th>class_name</th>\n",
       "      <th>center-x</th>\n",
       "      <th>center-y</th>\n",
       "      <th>normalised_width</th>\n",
       "      <th>normalised_height</th>\n",
       "    </tr>\n",
       "  </thead>\n",
       "  <tbody>\n",
       "    <tr>\n",
       "      <th>5673</th>\n",
       "      <td>627</td>\n",
       "      <td>young-medical-woman-making-thumbs-600w-1320570...</td>\n",
       "      <td>Good</td>\n",
       "      <td>0.492500</td>\n",
       "      <td>0.267857</td>\n",
       "      <td>0.245000</td>\n",
       "      <td>0.373810</td>\n",
       "    </tr>\n",
       "    <tr>\n",
       "      <th>5674</th>\n",
       "      <td>628</td>\n",
       "      <td>young-surgeon-indian-woman-blue-260nw-16798741...</td>\n",
       "      <td>Bad</td>\n",
       "      <td>0.547436</td>\n",
       "      <td>0.276786</td>\n",
       "      <td>0.223077</td>\n",
       "      <td>0.346429</td>\n",
       "    </tr>\n",
       "    <tr>\n",
       "      <th>5675</th>\n",
       "      <td>629</td>\n",
       "      <td>young-woman-demonstrates-right-wrong-260nw-171...</td>\n",
       "      <td>Good</td>\n",
       "      <td>0.248547</td>\n",
       "      <td>0.408929</td>\n",
       "      <td>0.215116</td>\n",
       "      <td>0.682143</td>\n",
       "    </tr>\n",
       "    <tr>\n",
       "      <th>5676</th>\n",
       "      <td>630</td>\n",
       "      <td>young-woman-demonstrates-right-wrong-260nw-171...</td>\n",
       "      <td>Bad</td>\n",
       "      <td>0.792878</td>\n",
       "      <td>0.437500</td>\n",
       "      <td>0.207849</td>\n",
       "      <td>0.632143</td>\n",
       "    </tr>\n",
       "    <tr>\n",
       "      <th>5677</th>\n",
       "      <td>631</td>\n",
       "      <td>young-woman-wears-home-made-600w-1704465010.jpg</td>\n",
       "      <td>Bad</td>\n",
       "      <td>0.385000</td>\n",
       "      <td>0.401720</td>\n",
       "      <td>0.476667</td>\n",
       "      <td>0.759214</td>\n",
       "    </tr>\n",
       "  </tbody>\n",
       "</table>\n",
       "</div>"
      ],
      "text/plain": [
       "      index                                           filename class_name  \\\n",
       "5673    627  young-medical-woman-making-thumbs-600w-1320570...       Good   \n",
       "5674    628  young-surgeon-indian-woman-blue-260nw-16798741...        Bad   \n",
       "5675    629  young-woman-demonstrates-right-wrong-260nw-171...       Good   \n",
       "5676    630  young-woman-demonstrates-right-wrong-260nw-171...        Bad   \n",
       "5677    631    young-woman-wears-home-made-600w-1704465010.jpg        Bad   \n",
       "\n",
       "      center-x  center-y  normalised_width  normalised_height  \n",
       "5673  0.492500  0.267857          0.245000           0.373810  \n",
       "5674  0.547436  0.276786          0.223077           0.346429  \n",
       "5675  0.248547  0.408929          0.215116           0.682143  \n",
       "5676  0.792878  0.437500          0.207849           0.632143  \n",
       "5677  0.385000  0.401720          0.476667           0.759214  "
      ]
     },
     "execution_count": 65,
     "metadata": {},
     "output_type": "execute_result"
    }
   ],
   "source": [
    "annotations.tail()"
   ]
  },
  {
   "cell_type": "code",
   "execution_count": 66,
   "metadata": {},
   "outputs": [
    {
     "data": {
      "text/html": [
       "<div>\n",
       "<style scoped>\n",
       "    .dataframe tbody tr th:only-of-type {\n",
       "        vertical-align: middle;\n",
       "    }\n",
       "\n",
       "    .dataframe tbody tr th {\n",
       "        vertical-align: top;\n",
       "    }\n",
       "\n",
       "    .dataframe thead th {\n",
       "        text-align: right;\n",
       "    }\n",
       "</style>\n",
       "<table border=\"1\" class=\"dataframe\">\n",
       "  <thead>\n",
       "    <tr style=\"text-align: right;\">\n",
       "      <th></th>\n",
       "      <th>class_name</th>\n",
       "      <th>index</th>\n",
       "      <th>filename</th>\n",
       "      <th>center-x</th>\n",
       "      <th>center-y</th>\n",
       "      <th>normalised_width</th>\n",
       "      <th>normalised_height</th>\n",
       "    </tr>\n",
       "  </thead>\n",
       "  <tbody>\n",
       "    <tr>\n",
       "      <th>0</th>\n",
       "      <td>Bad</td>\n",
       "      <td>202</td>\n",
       "      <td>202</td>\n",
       "      <td>201</td>\n",
       "      <td>201</td>\n",
       "      <td>201</td>\n",
       "      <td>201</td>\n",
       "    </tr>\n",
       "    <tr>\n",
       "      <th>1</th>\n",
       "      <td>Good</td>\n",
       "      <td>311</td>\n",
       "      <td>311</td>\n",
       "      <td>310</td>\n",
       "      <td>310</td>\n",
       "      <td>310</td>\n",
       "      <td>310</td>\n",
       "    </tr>\n",
       "    <tr>\n",
       "      <th>2</th>\n",
       "      <td>None</td>\n",
       "      <td>119</td>\n",
       "      <td>119</td>\n",
       "      <td>119</td>\n",
       "      <td>119</td>\n",
       "      <td>119</td>\n",
       "      <td>119</td>\n",
       "    </tr>\n",
       "    <tr>\n",
       "      <th>3</th>\n",
       "      <td>bad</td>\n",
       "      <td>667</td>\n",
       "      <td>667</td>\n",
       "      <td>667</td>\n",
       "      <td>667</td>\n",
       "      <td>667</td>\n",
       "      <td>667</td>\n",
       "    </tr>\n",
       "    <tr>\n",
       "      <th>4</th>\n",
       "      <td>good</td>\n",
       "      <td>3121</td>\n",
       "      <td>3121</td>\n",
       "      <td>3121</td>\n",
       "      <td>3121</td>\n",
       "      <td>3121</td>\n",
       "      <td>3121</td>\n",
       "    </tr>\n",
       "    <tr>\n",
       "      <th>5</th>\n",
       "      <td>none</td>\n",
       "      <td>1258</td>\n",
       "      <td>1258</td>\n",
       "      <td>1258</td>\n",
       "      <td>1258</td>\n",
       "      <td>1258</td>\n",
       "      <td>1258</td>\n",
       "    </tr>\n",
       "  </tbody>\n",
       "</table>\n",
       "</div>"
      ],
      "text/plain": [
       "  class_name  index  filename  center-x  center-y  normalised_width  \\\n",
       "0        Bad    202       202       201       201               201   \n",
       "1       Good    311       311       310       310               310   \n",
       "2       None    119       119       119       119               119   \n",
       "3        bad    667       667       667       667               667   \n",
       "4       good   3121      3121      3121      3121              3121   \n",
       "5       none   1258      1258      1258      1258              1258   \n",
       "\n",
       "   normalised_height  \n",
       "0                201  \n",
       "1                310  \n",
       "2                119  \n",
       "3                667  \n",
       "4               3121  \n",
       "5               1258  "
      ]
     },
     "execution_count": 66,
     "metadata": {},
     "output_type": "execute_result"
    }
   ],
   "source": [
    "annotations.groupby('class_name').count().reset_index()"
   ]
  },
  {
   "cell_type": "code",
   "execution_count": 67,
   "metadata": {},
   "outputs": [
    {
     "data": {
      "text/html": [
       "<div>\n",
       "<style scoped>\n",
       "    .dataframe tbody tr th:only-of-type {\n",
       "        vertical-align: middle;\n",
       "    }\n",
       "\n",
       "    .dataframe tbody tr th {\n",
       "        vertical-align: top;\n",
       "    }\n",
       "\n",
       "    .dataframe thead th {\n",
       "        text-align: right;\n",
       "    }\n",
       "</style>\n",
       "<table border=\"1\" class=\"dataframe\">\n",
       "  <thead>\n",
       "    <tr style=\"text-align: right;\">\n",
       "      <th></th>\n",
       "      <th>class_name</th>\n",
       "      <th>index</th>\n",
       "      <th>filename</th>\n",
       "      <th>center-x</th>\n",
       "      <th>center-y</th>\n",
       "      <th>normalised_width</th>\n",
       "      <th>normalised_height</th>\n",
       "    </tr>\n",
       "  </thead>\n",
       "  <tbody>\n",
       "    <tr>\n",
       "      <th>0</th>\n",
       "      <td>bad</td>\n",
       "      <td>2246</td>\n",
       "      <td>2246</td>\n",
       "      <td>2245</td>\n",
       "      <td>2245</td>\n",
       "      <td>2245</td>\n",
       "      <td>2245</td>\n",
       "    </tr>\n",
       "    <tr>\n",
       "      <th>1</th>\n",
       "      <td>good</td>\n",
       "      <td>3432</td>\n",
       "      <td>3432</td>\n",
       "      <td>3431</td>\n",
       "      <td>3431</td>\n",
       "      <td>3431</td>\n",
       "      <td>3431</td>\n",
       "    </tr>\n",
       "  </tbody>\n",
       "</table>\n",
       "</div>"
      ],
      "text/plain": [
       "  class_name  index  filename  center-x  center-y  normalised_width  \\\n",
       "0        bad   2246      2246      2245      2245              2245   \n",
       "1       good   3432      3432      3431      3431              3431   \n",
       "\n",
       "   normalised_height  \n",
       "0               2245  \n",
       "1               3431  "
      ]
     },
     "execution_count": 67,
     "metadata": {},
     "output_type": "execute_result"
    }
   ],
   "source": [
    "# Make the class_names case-insensitive and merge \"Bad\" and \"None\" classes into one. \n",
    "annotations['class_name'] = annotations['class_name'].str.lower()\n",
    "annotations['class_name'] = annotations['class_name'].str.replace('none', 'bad')\n",
    "annotations.groupby('class_name').count().reset_index()"
   ]
  },
  {
   "cell_type": "code",
   "execution_count": 68,
   "metadata": {},
   "outputs": [],
   "source": [
    "# Label Encoding for class_name\n",
    "# Import label encoder \n",
    "from sklearn import preprocessing \n",
    "  \n",
    "# label_encoder object knows how to understand word labels. \n",
    "label_encoder = preprocessing.LabelEncoder() \n",
    "  \n",
    "# Encode labels in column 'species'. \n",
    "annotations['class_id']= label_encoder.fit_transform(annotations['class_name']) \n",
    "annotations=annotations[['filename','class_id','center-x','center-y','normalised_width','normalised_height']]"
   ]
  },
  {
   "cell_type": "code",
   "execution_count": null,
   "metadata": {},
   "outputs": [],
   "source": []
  },
  {
   "cell_type": "code",
   "execution_count": 69,
   "metadata": {},
   "outputs": [],
   "source": [
    "# Saving the final annotations file\n",
    "annotations.to_csv('/data/logo_detection/Hackathon/processed_files/annotations_yolo.csv')"
   ]
  },
  {
   "cell_type": "markdown",
   "metadata": {},
   "source": [
    "### Placing the training labels and images into the respective folders in \"darknet\"\n"
   ]
  },
  {
   "cell_type": "code",
   "execution_count": 96,
   "metadata": {},
   "outputs": [],
   "source": [
    "#read relevant processed annotation file to access training_filename, create text files and place it in relevant folder\n",
    "def create_text_files(annotation_path, training_path):\n",
    "    df = pd.read_csv(annotation_path)\n",
    "    filenames = list(df['filename'])\n",
    "    print(len(filenames))\n",
    "    for i in filenames:\n",
    "        file = i\n",
    "        file=file.replace('.jpg','.txt')\n",
    "        file=file.replace('.jpeg','.txt')\n",
    "        file= file.replace('.png','.txt')\n",
    "        path = training_path+file\n",
    "        df_row = df[df['filename']==i]\n",
    "        df_row= df_row[['class_id','center-x','center-y','normalised_width','normalised_height']]\n",
    "        df_row.to_csv(path, header=None, index=None, sep=' ')\n",
    "        \n",
    "def transfer_training_images(image_path,annotation_path,training_path):\n",
    "    df = pd.read_csv(annotation_path)\n",
    "    rename_dict = dict(zip(df.filename, df.training_filename))\n",
    "    filenames = list(df['filename'])\n",
    "    for file in filenames:\n",
    "        jpgfile= os.path.join(image_path, file)\n",
    "        shutil.copy(jpgfile, training_path)\n",
    "        key= jpgfile.split('/')[-1]\n",
    "        old_dst_file_name = os.path.join(training_path,key)\n",
    "        new_dst_file_name = os.path.join(training_path, rename_dict[key])\n",
    "        os.rename(old_dst_file_name,new_dst_file_name)\n",
    "        \n",
    "        \n",
    "def create_train_text_file(train_text_path, training_path):\n",
    "#     f= open(train_text_path+'train.txt','r+')\n",
    "#     f.truncate()\n",
    "#     f.close()\n",
    "    for jpgfile in os.listdir('/data/logo_detection/Hackathon/raw_data/images_3/'):\n",
    "        f=open(train_text_path+'train.txt','a+')\n",
    "        f.write('/data/logo_detection/Hackathon/darknet/data/obj/'+jpgfile)\n",
    "        #f.replace('/data/logo_detection/hack/images/','/data/logo_detection/hack/darknet/build/darknet/x64/data/')\n",
    "        f.write('\\n')\n"
   ]
  },
  {
   "cell_type": "code",
   "execution_count": 98,
   "metadata": {},
   "outputs": [],
   "source": [
    "if __name__=='__main__':\n",
    "    annotation_path = '/data/logo_detection/Hackathon/processed_files/annotations_yolo.csv'\n",
    "    image_path = '/data/logo_detection/Hackathon/raw_data/images_3/'\n",
    "    training_path = '/data/logo_detection/Hackathon/darknet/data/obj/'\n",
    "    train_text_path='/data/logo_detection/Hackathon/darknet/build/darknet/x64/data/'\n",
    "    create_text_files(annotation_path,training_path)\n",
    "    transfer_training_images(image_path,annotation_path,training_path)\n",
    "    create_train_text_file(train_text_path,training_path)\n",
    "    "
   ]
  },
  {
   "cell_type": "markdown",
   "metadata": {},
   "source": [
    "### The data has been kept in the relevant folders for the training yolov4"
   ]
  },
  {
   "cell_type": "code",
   "execution_count": null,
   "metadata": {},
   "outputs": [],
   "source": []
  }
 ],
 "metadata": {
  "kernelspec": {
   "display_name": "Python 3",
   "language": "python",
   "name": "python3"
  },
  "language_info": {
   "codemirror_mode": {
    "name": "ipython",
    "version": 3
   },
   "file_extension": ".py",
   "mimetype": "text/x-python",
   "name": "python",
   "nbconvert_exporter": "python",
   "pygments_lexer": "ipython3",
   "version": "3.6.8"
  }
 },
 "nbformat": 4,
 "nbformat_minor": 4
}
